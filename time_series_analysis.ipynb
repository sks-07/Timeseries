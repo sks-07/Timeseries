{
 "cells": [
  {
   "cell_type": "code",
   "execution_count": 1,
   "metadata": {},
   "outputs": [],
   "source": [
    "import pandas as pd\n",
    "import matplotlib.pyplot as plt\n",
    "import numpy as np\n",
    "from datetime import datetime"
   ]
  },
  {
   "cell_type": "code",
   "execution_count": 2,
   "metadata": {},
   "outputs": [],
   "source": [
    "def dataloader(path):\n",
    "    df=pd.read_csv(path, sep=';')\n",
    "    return(df)"
   ]
  },
  {
   "cell_type": "code",
   "execution_count": 3,
   "metadata": {},
   "outputs": [],
   "source": [
    "def pre_processing(data):\n",
    "    data = data.drop(['Unnamed: 15', 'Unnamed: 16'], axis=1)\n",
    "    null_data = data[data.isnull().any(axis=1)]\n",
    "    data = data.dropna()\n",
    "    data = data.replace(-200, np.nan)\n",
    "    data.isnull().sum()\n",
    "    data.loc[:,'Datetime'] = data['Date'] + ' ' + data['Time']\n",
    "    DateTime = []\n",
    "    for x in data['Datetime']:\n",
    "        DateTime.append(datetime.strptime(x,'%d/%m/%Y %H.%M.%S'))\n",
    "    return data"
   ]
  },
  {
   "cell_type": "code",
   "execution_count": 4,
   "metadata": {},
   "outputs": [],
   "source": [
    "def create_newdf(data):\n",
    "    S1 = data['PT08.S1(CO)'].fillna(data['PT08.S1(CO)'].mean())\n",
    "    S2 = data['PT08.S2(NMHC)'].fillna(data['PT08.S1(CO)'].mean())\n",
    "    S3 = data['PT08.S3(NOx)'].fillna(data['PT08.S1(CO)'].mean())\n",
    "    S4 = data['PT08.S4(NO2)'].fillna(data['PT08.S1(CO)'].mean())\n",
    "    S5 = data['PT08.S5(O3)'].fillna(data['PT08.S1(CO)'].mean())\n",
    "    df = pd.DataFrame({'S1':S1, 'S2':S1, 'S3':S3, 'S4':S4, 'S5':S5})\n",
    "    return df\n"
   ]
  },
  {
   "cell_type": "code",
   "execution_count": 5,
   "metadata": {},
   "outputs": [],
   "source": [
    "def time_series_plot(data):\n",
    "    fig, axes = plt.subplots(len(data.colums),1, figsize=(15,24))\n",
    "    for i in range(len(data.colums)):\n",
    "        axes[i].plot(data['S'+str(i)])\n",
    "        axes[i].set_title ('S'+str(i))\n",
    "    "
   ]
  },
  {
   "cell_type": "code",
   "execution_count": 6,
   "metadata": {},
   "outputs": [],
   "source": [
    "def range_plot(data,start,last):\n",
    "    fig, axes = plt.subplots(len(data.colums),1, figsize=(15,24))\n",
    "    for i in range(len(data.colums)):\n",
    "        axes[i].plot(data['S'+str(i)][start:last])\n",
    "        axes[i].set_title ('S'+str(i))"
   ]
  },
  {
   "cell_type": "code",
   "execution_count": null,
   "metadata": {},
   "outputs": [],
   "source": []
  }
 ],
 "metadata": {
  "interpreter": {
   "hash": "380030d1298d5a27518acca789ff38fe82bbf2e68b73263de6a6bf23efb7704c"
  },
  "kernelspec": {
   "display_name": "Python 3.8.3 64-bit ('base': conda)",
   "language": "python",
   "name": "python3"
  },
  "language_info": {
   "codemirror_mode": {
    "name": "ipython",
    "version": 3
   },
   "file_extension": ".py",
   "mimetype": "text/x-python",
   "name": "python",
   "nbconvert_exporter": "python",
   "pygments_lexer": "ipython3",
   "version": "3.8.3"
  },
  "orig_nbformat": 4
 },
 "nbformat": 4,
 "nbformat_minor": 2
}
